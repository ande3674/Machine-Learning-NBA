{
 "cells": [
  {
   "cell_type": "code",
   "execution_count": 1,
   "metadata": {},
   "outputs": [],
   "source": [
    "import pandas as pd"
   ]
  },
  {
   "cell_type": "code",
   "execution_count": 7,
   "metadata": {},
   "outputs": [],
   "source": [
    "# Load csv\n",
    "teamFile = pd.read_csv('data/NBAPlayerAges.csv')\n",
    "\n",
    "teamFile.drop(columns = 'Unnamed: 0', inplace=True)"
   ]
  },
  {
   "cell_type": "code",
   "execution_count": 8,
   "metadata": {},
   "outputs": [
    {
     "name": "stdout",
     "output_type": "stream",
     "text": [
      "               player_name team_abbreviation  age  player_height  \\\n",
      "10644       Gordon Hayward               BOS   29         200.66   \n",
      "10648       Grant Williams               BOS   21         198.12   \n",
      "10682          Enes Kanter               BOS   27         208.28   \n",
      "10696         Jayson Tatum               BOS   22         203.20   \n",
      "10707         Jaylen Brown               BOS   23         198.12   \n",
      "10724        Javonte Green               BOS   26         193.04   \n",
      "10765       Brad Wanamaker               BOS   30         190.50   \n",
      "10786       Carsen Edwards               BOS   21         180.34   \n",
      "10882         Daniel Theis               BOS   27         203.20   \n",
      "10898         Semi Ojeleye               BOS   25         198.12   \n",
      "10919       Romeo Langford               BOS   20         193.04   \n",
      "10946  Robert Williams III               BOS   22         203.20   \n",
      "10950           Tacko Fall               BOS   24         226.06   \n",
      "10961      Vincent Poirier               BOS   26         213.36   \n",
      "11007       Tremont Waters               BOS   22         177.80   \n",
      "11076         Kemba Walker               BOS   29         182.88   \n",
      "11124         Marcus Smart               BOS   26         190.50   \n",
      "\n",
      "       player_weight             college  country draft_year draft_round  \\\n",
      "10644     102.058200              Butler      USA       2010           1   \n",
      "10648     107.047712           Tennessee      USA       2019           1   \n",
      "10682     113.398000                       Turkey       2011           1   \n",
      "10696      95.254320                Duke      USA       2017           1   \n",
      "10707     101.151016          California      USA       2016           1   \n",
      "10724      92.986360  Radford University      USA  Undrafted   Undrafted   \n",
      "10765      95.254320          Pittsburgh      USA  Undrafted   Undrafted   \n",
      "10786      90.718400              Purdue      USA       2019           2   \n",
      "10882     111.130040                None  Germany  Undrafted   Undrafted   \n",
      "10898     108.862080  Southern Methodist      USA       2017           2   \n",
      "10919      97.975872             Indiana      USA       2019           1   \n",
      "10946     107.501304           Texas A&M      USA       2018           1   \n",
      "10950     141.067112                None  Senegal  Undrafted   Undrafted   \n",
      "10961     106.594120                None   France  Undrafted   Undrafted   \n",
      "11007      79.378600     Louisiana State      USA       2019           2   \n",
      "11076      83.460928         Connecticut      USA       2011           1   \n",
      "11124      99.790240      Oklahoma State      USA       2014           1   \n",
      "\n",
      "      draft_number  ...   pts  reb  ast  net_rating  oreb_pct  dreb_pct  \\\n",
      "10644            9  ...  16.9  6.5  4.1         8.3     0.029     0.156   \n",
      "10648           22  ...   3.6  2.7  1.0         7.7     0.057     0.102   \n",
      "10682            3  ...   8.4  7.9  0.9         8.5     0.150     0.267   \n",
      "10696            3  ...  23.5  7.1  3.0        11.0     0.027     0.169   \n",
      "10707            3  ...  20.4  6.4  2.2         6.5     0.031     0.148   \n",
      "10724    Undrafted  ...   2.9  1.8  0.5        -0.1     0.044     0.135   \n",
      "10765    Undrafted  ...   6.7  2.0  2.6         3.0     0.015     0.080   \n",
      "10786           33  ...   3.0  1.2  0.6        -6.4     0.016     0.108   \n",
      "10882    Undrafted  ...   9.1  6.6  1.6         8.0     0.092     0.174   \n",
      "10898           37  ...   3.2  2.0  0.5         0.1     0.025     0.101   \n",
      "10919           14  ...   2.5  1.0  0.2         5.9     0.038     0.053   \n",
      "10946           27  ...   4.2  4.7  1.0         1.1     0.096     0.221   \n",
      "10950    Undrafted  ...   3.2  1.8  0.0        12.7     0.000     0.367   \n",
      "10961    Undrafted  ...   1.9  1.6  0.3        -3.8     0.087     0.180   \n",
      "11007           51  ...   3.3  0.9  1.2        14.8     0.000     0.089   \n",
      "11076            9  ...  21.6  4.1  5.0         7.7     0.020     0.103   \n",
      "11124            6  ...  13.3  3.7  4.9         7.0     0.021     0.085   \n",
      "\n",
      "       usg_pct  ts_pct  ast_pct   season  \n",
      "10644    0.202   0.592    0.180  2019-20  \n",
      "10648    0.111   0.511    0.086  2019-20  \n",
      "10682    0.187   0.599    0.079  2019-20  \n",
      "10696    0.279   0.564    0.138  2019-20  \n",
      "10707    0.245   0.589    0.100  2019-20  \n",
      "10724    0.133   0.558    0.076  2019-20  \n",
      "10765    0.154   0.557    0.187  2019-20  \n",
      "10786    0.168   0.446    0.116  2019-20  \n",
      "10882    0.146   0.621    0.097  2019-20  \n",
      "10898    0.085   0.572    0.050  2019-20  \n",
      "10919    0.114   0.476    0.030  2019-20  \n",
      "10946    0.123   0.666    0.097  2019-20  \n",
      "10950    0.281   0.713    0.000  2019-20  \n",
      "10961    0.147   0.540    0.084  2019-20  \n",
      "11007    0.216   0.438    0.185  2019-20  \n",
      "11076    0.275   0.574    0.236  2019-20  \n",
      "11124    0.186   0.519    0.215  2019-20  \n",
      "\n",
      "[17 rows x 21 columns]\n",
      "             player_name team_abbreviation  age  player_height  player_weight  \\\n",
      "10698        Jeff Teague               ATL   31         190.50      88.450440   \n",
      "10710       John Collins               ATL   22         205.74     106.594120   \n",
      "10758     Dewayne Dedmon               ATL   30         213.36     111.130040   \n",
      "10768    Brandon Goodwin               ATL   24         182.88      81.646560   \n",
      "10775     Bruno Fernando               ATL   21         205.74     108.862080   \n",
      "10782        Cam Reddish               ATL   20         203.20      98.883056   \n",
      "10823  Charles Brown Jr.               ATL   23         198.12      90.264808   \n",
      "10829    De'Andre Hunter               ATL   22         200.66     102.058200   \n",
      "10832    DeAndre' Bembry               ATL   25         195.58      95.254320   \n",
      "10865       Clint Capela               ATL   25         208.28     108.862080   \n",
      "10877       Damian Jones               ATL   24         210.82     111.130040   \n",
      "10885   Chandler Parsons               ATL   31         205.74     104.326160   \n",
      "10906    Skal Labissiere               ATL   23         208.28     106.594120   \n",
      "10954     Tyrone Wallace               ATL   25         195.58      89.811216   \n",
      "10960       Vince Carter               ATL   43         198.12      99.790240   \n",
      "11006         Trae Young               ATL   21         185.42      81.646560   \n",
      "11008     Treveon Graham               ATL   26         195.58      99.336648   \n",
      "11018      Kevin Huerter               ATL   21         200.66      86.182480   \n",
      "\n",
      "               college      country draft_year draft_round draft_number  ...  \\\n",
      "10698      Wake Forest          USA       2009           1           19  ...   \n",
      "10710      Wake Forest          USA       2017           1           19  ...   \n",
      "10758              USC          USA  Undrafted   Undrafted    Undrafted  ...   \n",
      "10768             None          USA  Undrafted   Undrafted    Undrafted  ...   \n",
      "10775         Maryland       Angola       2019           2           34  ...   \n",
      "10782             Duke          USA       2019           1           10  ...   \n",
      "10823             None          USA  Undrafted   Undrafted    Undrafted  ...   \n",
      "10829         Virginia          USA       2019           1            4  ...   \n",
      "10832             None          USA       2016           1           21  ...   \n",
      "10865             None  Switzerland       2014           1           25  ...   \n",
      "10877       Vanderbilt          USA       2016           1           30  ...   \n",
      "10885          Florida          USA       2011           2           38  ...   \n",
      "10906         Kentucky        Haiti       2016           1           28  ...   \n",
      "10954       California          USA       2016           2           60  ...   \n",
      "10960   North Carolina          USA       1998           1            5  ...   \n",
      "11006         Oklahoma          USA       2018           1            5  ...   \n",
      "11008  Va Commonwealth          USA  Undrafted   Undrafted    Undrafted  ...   \n",
      "11018         Maryland          USA       2018           1           19  ...   \n",
      "\n",
      "        pts   reb  ast  net_rating  oreb_pct  dreb_pct  usg_pct  ts_pct  \\\n",
      "10698  10.9   2.4  5.3        -5.7     0.017     0.074    0.193   0.550   \n",
      "10710  21.4  10.0  1.5        -5.3     0.079     0.209    0.225   0.660   \n",
      "10758   5.6   5.4  0.5        -1.5     0.071     0.240    0.179   0.473   \n",
      "10768   6.1   2.1  1.5       -13.8     0.023     0.132    0.220   0.507   \n",
      "10775   4.4   3.6  0.9        -5.6     0.086     0.181    0.148   0.544   \n",
      "10782  10.3   3.6  1.5        -6.7     0.021     0.107    0.184   0.497   \n",
      "10823   2.0   0.4  0.2        33.9     0.040     0.048    0.231   0.472   \n",
      "10829  12.3   4.4  1.8        -5.7     0.020     0.113    0.174   0.516   \n",
      "10832   5.8   3.5  1.9       -11.8     0.034     0.123    0.137   0.500   \n",
      "10865  13.9  13.8  1.2         2.5     0.118     0.265    0.156   0.626   \n",
      "10877   5.6   3.7  0.6       -12.6     0.080     0.153    0.113   0.712   \n",
      "10885   2.8   1.4  0.6       -29.0     0.015     0.120    0.150   0.389   \n",
      "10906   5.8   5.1  1.3         1.3     0.105     0.155    0.139   0.588   \n",
      "10954   2.9   1.6  0.9        -8.3     0.016     0.123    0.154   0.389   \n",
      "10960   4.9   2.1  0.8        -8.6     0.019     0.116    0.163   0.464   \n",
      "11006  29.4   4.3  9.2        -5.1     0.014     0.102    0.338   0.593   \n",
      "11008   4.4   2.7  0.8        -6.8     0.048     0.097    0.129   0.449   \n",
      "11018  12.3   4.1  3.7        -6.4     0.019     0.106    0.170   0.540   \n",
      "\n",
      "       ast_pct   season  \n",
      "10698    0.306  2019-20  \n",
      "10710    0.081  2019-20  \n",
      "10758    0.039  2019-20  \n",
      "10768    0.208  2019-20  \n",
      "10775    0.102  2019-20  \n",
      "10782    0.081  2019-20  \n",
      "10823    0.077  2019-20  \n",
      "10829    0.079  2019-20  \n",
      "10832    0.130  2019-20  \n",
      "10865    0.056  2019-20  \n",
      "10877    0.057  2019-20  \n",
      "10885    0.100  2019-20  \n",
      "10906    0.106  2019-20  \n",
      "10954    0.123  2019-20  \n",
      "10960    0.082  2019-20  \n",
      "11006    0.419  2019-20  \n",
      "11008    0.067  2019-20  \n",
      "11018    0.169  2019-20  \n",
      "\n",
      "[18 rows x 21 columns]\n"
     ]
    }
   ],
   "source": [
    "# Filter on season and team abbrevs\n",
    "home_team = teamFile[(teamFile['season'] == '2019-20') & (teamFile['team_abbreviation'] == 'BOS')]\n",
    "visiting_team = teamFile[(teamFile['season'] == '2019-20') & (teamFile['team_abbreviation'] == 'ATL')]\n",
    "print(home_team)\n",
    "print(visiting_team)"
   ]
  },
  {
   "cell_type": "code",
   "execution_count": 13,
   "metadata": {},
   "outputs": [
    {
     "name": "stdout",
     "output_type": "stream",
     "text": [
      "age               24.705882\n",
      "player_height    197.671765\n",
      "player_weight    101.978154\n",
      "gp                41.000000\n",
      "pts                8.688235\n",
      "reb                3.647059\n",
      "ast                1.741176\n",
      "net_rating         5.411765\n",
      "oreb_pct           0.044000\n",
      "dreb_pct           0.149294\n",
      "usg_pct            0.179529\n",
      "ts_pct             0.560882\n",
      "ast_pct            0.115059\n",
      "dtype: float64\n",
      "--------------------\n",
      "age               25.388889\n",
      "player_height    200.236667\n",
      "player_weight     98.379065\n",
      "gp                42.500000\n",
      "pts                8.933333\n",
      "reb                4.122222\n",
      "ast                1.900000\n",
      "net_rating        -5.288889\n",
      "oreb_pct           0.045833\n",
      "dreb_pct           0.136889\n",
      "usg_pct            0.177944\n",
      "ts_pct             0.526056\n",
      "ast_pct            0.126778\n",
      "dtype: float64\n"
     ]
    }
   ],
   "source": [
    "homeTeamAvg = home_team.mean()\n",
    "visitTeamAvg = visiting_team.mean()\n",
    "\n",
    "print(homeTeamAvg)\n",
    "print('--------------------')\n",
    "print(visitTeamAvg)"
   ]
  },
  {
   "cell_type": "code",
   "execution_count": 11,
   "metadata": {},
   "outputs": [
    {
     "data": {
      "text/plain": [
       "{'homeTeamHeightAverage': 197.67176470588237,\n",
       " 'homeTeamWeightAverage': 101.97815435294119,\n",
       " 'homeTeamAgeAverage': 24.705882352941178,\n",
       " 'visitorTeamHeightAverage': 200.23666666666665,\n",
       " 'visitorTeamWeightAverage': 98.37906488888888,\n",
       " 'visitorTeamAgeAverage': 25.38888888888889}"
      ]
     },
     "execution_count": 11,
     "metadata": {},
     "output_type": "execute_result"
    }
   ],
   "source": [
    "homeHeightAvg = homeTeamAvg['player_height']\n",
    "homeWeightAvg = homeTeamAvg['player_weight']\n",
    "homeAgeAvg = homeTeamAvg['age']\n",
    "visHeightAvg = visitTeamAvg['player_height']\n",
    "visWeightAvg = visitTeamAvg['player_weight']\n",
    "visAgeAvg = visitTeamAvg['age']\n",
    "\n",
    "dictRow = {'homeTeamHeightAverage': homeHeightAvg, 'homeTeamWeightAverage': homeWeightAvg,\n",
    "               'homeTeamAgeAverage': homeAgeAvg, 'visitorTeamHeightAverage': visHeightAvg,\n",
    "               'visitorTeamWeightAverage': visWeightAvg, 'visitorTeamAgeAverage': visAgeAvg}\n",
    "\n",
    "dictRow"
   ]
  },
  {
   "cell_type": "code",
   "execution_count": 22,
   "metadata": {},
   "outputs": [
    {
     "data": {
      "text/html": [
       "<div>\n",
       "<style scoped>\n",
       "    .dataframe tbody tr th:only-of-type {\n",
       "        vertical-align: middle;\n",
       "    }\n",
       "\n",
       "    .dataframe tbody tr th {\n",
       "        vertical-align: top;\n",
       "    }\n",
       "\n",
       "    .dataframe thead th {\n",
       "        text-align: right;\n",
       "    }\n",
       "</style>\n",
       "<table border=\"1\" class=\"dataframe\">\n",
       "  <thead>\n",
       "    <tr style=\"text-align: right;\">\n",
       "      <th></th>\n",
       "      <th>homeTeamHeightAverage</th>\n",
       "      <th>homeTeamWeightAverage</th>\n",
       "      <th>homeTeamAgeAverage</th>\n",
       "      <th>visitorTeamHeightAverage</th>\n",
       "      <th>visitorTeamWeightAverage</th>\n",
       "      <th>visitorTeamAgeAverage</th>\n",
       "    </tr>\n",
       "  </thead>\n",
       "  <tbody>\n",
       "    <tr>\n",
       "      <th>0</th>\n",
       "      <td>197.671765</td>\n",
       "      <td>101.978154</td>\n",
       "      <td>24.705882</td>\n",
       "      <td>200.236667</td>\n",
       "      <td>98.379065</td>\n",
       "      <td>25.388889</td>\n",
       "    </tr>\n",
       "  </tbody>\n",
       "</table>\n",
       "</div>"
      ],
      "text/plain": [
       "   homeTeamHeightAverage  homeTeamWeightAverage  homeTeamAgeAverage  \\\n",
       "0             197.671765             101.978154           24.705882   \n",
       "\n",
       "   visitorTeamHeightAverage  visitorTeamWeightAverage  visitorTeamAgeAverage  \n",
       "0                200.236667                 98.379065              25.388889  "
      ]
     },
     "execution_count": 22,
     "metadata": {},
     "output_type": "execute_result"
    }
   ],
   "source": [
    "# Turn this into data frame\n",
    "predict_this_df = pd.DataFrame([dictRow])\n",
    "\n",
    "predict_this_df"
   ]
  },
  {
   "cell_type": "code",
   "execution_count": 44,
   "metadata": {},
   "outputs": [
    {
     "name": "stdout",
     "output_type": "stream",
     "text": [
      "[197.67176471 101.97815435  24.70588235 200.23666667  98.37906489\n",
      "  25.38888889]\n",
      "[[197.67176471 101.97815435  24.70588235 200.23666667  98.37906489\n",
      "   25.38888889]]\n"
     ]
    }
   ],
   "source": [
    "data_row = predict_this_df.iloc[0].values\n",
    "reshape_datarow = data_row.reshape(1, -1)\n",
    "\n",
    "print(data_row)\n",
    "print(reshape_datarow)"
   ]
  },
  {
   "cell_type": "code",
   "execution_count": 29,
   "metadata": {},
   "outputs": [],
   "source": [
    "# Load Model\n",
    "\n",
    "from tensorflow.keras.models import load_model \n",
    "\n",
    "model = load_model('saved_deep_neural_game.h5')\n",
    "\n",
    "# Load scaler from the model\n",
    "from pickle import load\n",
    "\n",
    "scaler = load(open('model/scaler.pkl', 'rb'))"
   ]
  },
  {
   "cell_type": "code",
   "execution_count": 52,
   "metadata": {},
   "outputs": [
    {
     "name": "stdout",
     "output_type": "stream",
     "text": [
      "[[0.46005082 0.5399492 ]]\n",
      "[[0. 1.]]\n"
     ]
    }
   ],
   "source": [
    "# transform the test dataset\n",
    "X_test_scaled = scaler.transform(reshape_datarow)\n",
    "\n",
    "# Evaluate the model using the training data\n",
    "predictions = model.predict(X_test_scaled)\n",
    "predictions_round = model.predict(X_test_scaled).round()\n",
    "\n",
    "print(predictions)\n",
    "print(predictions_round) # [[Lose, Win]]"
   ]
  },
  {
   "cell_type": "code",
   "execution_count": null,
   "metadata": {},
   "outputs": [],
   "source": [
    "# if first index is 0, home team wins\n",
    "# if first index is 1, home team loss\n",
    "homeTeamOutcome = predictions_round[0][0] \n",
    "\n",
    "if homeTeamOutcome == 0.0:\n",
    "    winner = 'BOS'\n",
    "else:\n",
    "    winner = 'ATL'\n",
    "\n",
    "# Gives the higher probability as output\n",
    "probability_first = predictions[0][0]\n",
    "probability_second = predictions[0][1]\n",
    "\n",
    "if probability_first < probability_second:\n",
    "    WinProbability = probability_second\n",
    "else:\n",
    "    WinProbability = probability_first"
   ]
  }
 ],
 "metadata": {
  "kernelspec": {
   "display_name": "Python 3",
   "language": "python",
   "name": "python3"
  },
  "language_info": {
   "codemirror_mode": {
    "name": "ipython",
    "version": 3
   },
   "file_extension": ".py",
   "mimetype": "text/x-python",
   "name": "python",
   "nbconvert_exporter": "python",
   "pygments_lexer": "ipython3",
   "version": "3.6.12"
  }
 },
 "nbformat": 4,
 "nbformat_minor": 4
}
