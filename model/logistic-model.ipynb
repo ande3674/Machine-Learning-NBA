{
 "cells": [
  {
   "cell_type": "code",
   "execution_count": 1,
   "metadata": {},
   "outputs": [],
   "source": [
    "# Dependencies\n",
    "import pandas as pd"
   ]
  },
  {
   "cell_type": "code",
   "execution_count": 2,
   "metadata": {},
   "outputs": [
    {
     "data": {
      "text/html": [
       "<div>\n",
       "<style scoped>\n",
       "    .dataframe tbody tr th:only-of-type {\n",
       "        vertical-align: middle;\n",
       "    }\n",
       "\n",
       "    .dataframe tbody tr th {\n",
       "        vertical-align: top;\n",
       "    }\n",
       "\n",
       "    .dataframe thead th {\n",
       "        text-align: right;\n",
       "    }\n",
       "</style>\n",
       "<table border=\"1\" class=\"dataframe\">\n",
       "  <thead>\n",
       "    <tr style=\"text-align: right;\">\n",
       "      <th></th>\n",
       "      <th>gameID</th>\n",
       "      <th>homeTeamID</th>\n",
       "      <th>visitorTeamID</th>\n",
       "      <th>homeTeamHeightAverage</th>\n",
       "      <th>homeTeamWeightAverage</th>\n",
       "      <th>homeTeamAgeAverage</th>\n",
       "      <th>visitorTeamHeightAverage</th>\n",
       "      <th>visitorTeamWeightAverage</th>\n",
       "      <th>visitorTeamAgeAverage</th>\n",
       "      <th>homeTeamWin</th>\n",
       "    </tr>\n",
       "  </thead>\n",
       "  <tbody>\n",
       "    <tr>\n",
       "      <th>0</th>\n",
       "      <td>1.0</td>\n",
       "      <td>2.0</td>\n",
       "      <td>23.0</td>\n",
       "      <td>199.390000</td>\n",
       "      <td>102.625190</td>\n",
       "      <td>26.416667</td>\n",
       "      <td>200.269231</td>\n",
       "      <td>96.440638</td>\n",
       "      <td>25.153846</td>\n",
       "      <td>1.0</td>\n",
       "    </tr>\n",
       "    <tr>\n",
       "      <th>1</th>\n",
       "      <td>2.0</td>\n",
       "      <td>10.0</td>\n",
       "      <td>21.0</td>\n",
       "      <td>201.441538</td>\n",
       "      <td>97.906089</td>\n",
       "      <td>28.000000</td>\n",
       "      <td>199.878462</td>\n",
       "      <td>97.696738</td>\n",
       "      <td>25.692308</td>\n",
       "      <td>1.0</td>\n",
       "    </tr>\n",
       "    <tr>\n",
       "      <th>2</th>\n",
       "      <td>3.0</td>\n",
       "      <td>4.0</td>\n",
       "      <td>17.0</td>\n",
       "      <td>201.050769</td>\n",
       "      <td>99.301756</td>\n",
       "      <td>26.846154</td>\n",
       "      <td>201.050769</td>\n",
       "      <td>100.941666</td>\n",
       "      <td>26.692308</td>\n",
       "      <td>0.0</td>\n",
       "    </tr>\n",
       "    <tr>\n",
       "      <th>3</th>\n",
       "      <td>4.0</td>\n",
       "      <td>9.0</td>\n",
       "      <td>3.0</td>\n",
       "      <td>198.966667</td>\n",
       "      <td>100.243832</td>\n",
       "      <td>27.466667</td>\n",
       "      <td>201.718333</td>\n",
       "      <td>98.656260</td>\n",
       "      <td>25.166667</td>\n",
       "      <td>1.0</td>\n",
       "    </tr>\n",
       "    <tr>\n",
       "      <th>4</th>\n",
       "      <td>5.0</td>\n",
       "      <td>12.0</td>\n",
       "      <td>15.0</td>\n",
       "      <td>199.683077</td>\n",
       "      <td>97.208255</td>\n",
       "      <td>26.461538</td>\n",
       "      <td>201.832308</td>\n",
       "      <td>99.511106</td>\n",
       "      <td>27.692308</td>\n",
       "      <td>1.0</td>\n",
       "    </tr>\n",
       "    <tr>\n",
       "      <th>...</th>\n",
       "      <td>...</td>\n",
       "      <td>...</td>\n",
       "      <td>...</td>\n",
       "      <td>...</td>\n",
       "      <td>...</td>\n",
       "      <td>...</td>\n",
       "      <td>...</td>\n",
       "      <td>...</td>\n",
       "      <td>...</td>\n",
       "      <td>...</td>\n",
       "    </tr>\n",
       "    <tr>\n",
       "      <th>6553</th>\n",
       "      <td>62481.0</td>\n",
       "      <td>28.0</td>\n",
       "      <td>10.0</td>\n",
       "      <td>198.901538</td>\n",
       "      <td>97.626955</td>\n",
       "      <td>27.923077</td>\n",
       "      <td>201.832308</td>\n",
       "      <td>99.476215</td>\n",
       "      <td>28.615385</td>\n",
       "      <td>0.0</td>\n",
       "    </tr>\n",
       "    <tr>\n",
       "      <th>6554</th>\n",
       "      <td>62482.0</td>\n",
       "      <td>10.0</td>\n",
       "      <td>28.0</td>\n",
       "      <td>202.418462</td>\n",
       "      <td>100.348507</td>\n",
       "      <td>28.692308</td>\n",
       "      <td>198.315385</td>\n",
       "      <td>97.975872</td>\n",
       "      <td>27.923077</td>\n",
       "      <td>0.0</td>\n",
       "    </tr>\n",
       "    <tr>\n",
       "      <th>6555</th>\n",
       "      <td>62483.0</td>\n",
       "      <td>10.0</td>\n",
       "      <td>28.0</td>\n",
       "      <td>201.832308</td>\n",
       "      <td>99.476215</td>\n",
       "      <td>28.615385</td>\n",
       "      <td>198.901538</td>\n",
       "      <td>98.952839</td>\n",
       "      <td>28.000000</td>\n",
       "      <td>0.0</td>\n",
       "    </tr>\n",
       "    <tr>\n",
       "      <th>6556</th>\n",
       "      <td>62484.0</td>\n",
       "      <td>28.0</td>\n",
       "      <td>10.0</td>\n",
       "      <td>198.901538</td>\n",
       "      <td>97.626955</td>\n",
       "      <td>27.923077</td>\n",
       "      <td>202.418462</td>\n",
       "      <td>100.522966</td>\n",
       "      <td>29.230769</td>\n",
       "      <td>0.0</td>\n",
       "    </tr>\n",
       "    <tr>\n",
       "      <th>6557</th>\n",
       "      <td>62485.0</td>\n",
       "      <td>10.0</td>\n",
       "      <td>28.0</td>\n",
       "      <td>201.832308</td>\n",
       "      <td>99.476215</td>\n",
       "      <td>28.615385</td>\n",
       "      <td>198.315385</td>\n",
       "      <td>97.975872</td>\n",
       "      <td>27.923077</td>\n",
       "      <td>0.0</td>\n",
       "    </tr>\n",
       "  </tbody>\n",
       "</table>\n",
       "<p>6558 rows × 10 columns</p>\n",
       "</div>"
      ],
      "text/plain": [
       "       gameID  homeTeamID  visitorTeamID  homeTeamHeightAverage  \\\n",
       "0         1.0         2.0           23.0             199.390000   \n",
       "1         2.0        10.0           21.0             201.441538   \n",
       "2         3.0         4.0           17.0             201.050769   \n",
       "3         4.0         9.0            3.0             198.966667   \n",
       "4         5.0        12.0           15.0             199.683077   \n",
       "...       ...         ...            ...                    ...   \n",
       "6553  62481.0        28.0           10.0             198.901538   \n",
       "6554  62482.0        10.0           28.0             202.418462   \n",
       "6555  62483.0        10.0           28.0             201.832308   \n",
       "6556  62484.0        28.0           10.0             198.901538   \n",
       "6557  62485.0        10.0           28.0             201.832308   \n",
       "\n",
       "      homeTeamWeightAverage  homeTeamAgeAverage  visitorTeamHeightAverage  \\\n",
       "0                102.625190           26.416667                200.269231   \n",
       "1                 97.906089           28.000000                199.878462   \n",
       "2                 99.301756           26.846154                201.050769   \n",
       "3                100.243832           27.466667                201.718333   \n",
       "4                 97.208255           26.461538                201.832308   \n",
       "...                     ...                 ...                       ...   \n",
       "6553              97.626955           27.923077                201.832308   \n",
       "6554             100.348507           28.692308                198.315385   \n",
       "6555              99.476215           28.615385                198.901538   \n",
       "6556              97.626955           27.923077                202.418462   \n",
       "6557              99.476215           28.615385                198.315385   \n",
       "\n",
       "      visitorTeamWeightAverage  visitorTeamAgeAverage  homeTeamWin  \n",
       "0                    96.440638              25.153846          1.0  \n",
       "1                    97.696738              25.692308          1.0  \n",
       "2                   100.941666              26.692308          0.0  \n",
       "3                    98.656260              25.166667          1.0  \n",
       "4                    99.511106              27.692308          1.0  \n",
       "...                        ...                    ...          ...  \n",
       "6553                 99.476215              28.615385          0.0  \n",
       "6554                 97.975872              27.923077          0.0  \n",
       "6555                 98.952839              28.000000          0.0  \n",
       "6556                100.522966              29.230769          0.0  \n",
       "6557                 97.975872              27.923077          0.0  \n",
       "\n",
       "[6558 rows x 10 columns]"
      ]
     },
     "execution_count": 2,
     "metadata": {},
     "output_type": "execute_result"
    }
   ],
   "source": [
    "# Load data\n",
    "df = pd.read_csv('../data/machineLearningDataSet.csv')\n",
    "\n",
    "# Drop the null columns where all values are null -- nothing to drop\n",
    "df = df.dropna(axis='columns', how='all')\n",
    "\n",
    "# Drop the null rows -- nothing to drop\n",
    "df = df.dropna()\n",
    "\n",
    "# Drop Unnamed: 0\n",
    "df = df.drop(columns=['Unnamed: 0'])\n",
    "\n",
    "df"
   ]
  },
  {
   "cell_type": "code",
   "execution_count": 3,
   "metadata": {},
   "outputs": [
    {
     "name": "stdout",
     "output_type": "stream",
     "text": [
      "(6558, 6) (6558,)\n"
     ]
    }
   ],
   "source": [
    "# Assign X (data) and y (target)\n",
    "drop_col = ['gameID', 'homeTeamID', 'visitorTeamID', 'homeTeamWin']\n",
    "X = df.drop(drop_col, axis=1)\n",
    "y = df['homeTeamWin']\n",
    "\n",
    "print(X.shape, y.shape)"
   ]
  },
  {
   "cell_type": "code",
   "execution_count": 4,
   "metadata": {},
   "outputs": [],
   "source": [
    "# Split our data into training and testing\n",
    "from sklearn.model_selection import train_test_split\n",
    "\n",
    "X_train, X_test, y_train, y_test = train_test_split(X, y, random_state=1)"
   ]
  },
  {
   "cell_type": "code",
   "execution_count": 5,
   "metadata": {},
   "outputs": [],
   "source": [
    "# Scale your data\n",
    "from sklearn.preprocessing import MinMaxScaler\n",
    "\n",
    "X_scaler = MinMaxScaler().fit(X_train)\n",
    "X_train_scaled = X_scaler.transform(X_train)\n",
    "X_test_scaled = X_scaler.transform(X_test)"
   ]
  },
  {
   "cell_type": "code",
   "execution_count": 6,
   "metadata": {},
   "outputs": [
    {
     "data": {
      "text/plain": [
       "LogisticRegression()"
      ]
     },
     "execution_count": 6,
     "metadata": {},
     "output_type": "execute_result"
    }
   ],
   "source": [
    "# Create a Logistic Regression Model\n",
    "from sklearn.linear_model import LogisticRegression\n",
    "\n",
    "classifier = LogisticRegression()\n",
    "classifier"
   ]
  },
  {
   "cell_type": "code",
   "execution_count": 7,
   "metadata": {},
   "outputs": [
    {
     "data": {
      "text/plain": [
       "LogisticRegression()"
      ]
     },
     "execution_count": 7,
     "metadata": {},
     "output_type": "execute_result"
    }
   ],
   "source": [
    "# Fit (train) or model using the training data\n",
    "classifier.fit(X_train, y_train)"
   ]
  },
  {
   "cell_type": "code",
   "execution_count": 8,
   "metadata": {},
   "outputs": [
    {
     "name": "stdout",
     "output_type": "stream",
     "text": [
      "Training Data Score: 0.6026840178934526\n",
      "Testing Data Score: 0.5975609756097561\n"
     ]
    }
   ],
   "source": [
    "# Validate the model using the test data\n",
    "print(f\"Training Data Score: {classifier.score(X_train, y_train)}\")\n",
    "print(f\"Testing Data Score: {classifier.score(X_test, y_test)}\")"
   ]
  },
  {
   "cell_type": "code",
   "execution_count": 9,
   "metadata": {},
   "outputs": [
    {
     "name": "stdout",
     "output_type": "stream",
     "text": [
      "First 10 Predictions:   [1. 1. 0. 1. 1. 1. 0. 1. 1. 1.]\n",
      "First 10 Actual labels: [0.0, 1.0, 1.0, 0.0, 0.0, 1.0, 0.0, 0.0, 0.0, 1.0]\n"
     ]
    }
   ],
   "source": [
    "# Make predictions \n",
    "predictions = classifier.predict(X_test)\n",
    "print(f\"First 10 Predictions:   {predictions[:10]}\")\n",
    "print(f\"First 10 Actual labels: {y_test[:10].tolist()}\")"
   ]
  },
  {
   "cell_type": "code",
   "execution_count": 10,
   "metadata": {},
   "outputs": [
    {
     "data": {
      "text/plain": [
       "['saved_logistic_game.sav']"
      ]
     },
     "execution_count": 10,
     "metadata": {},
     "output_type": "execute_result"
    }
   ],
   "source": [
    "# Save the model\n",
    "import joblib\n",
    "filename = 'saved_logistic_game.sav'\n",
    "joblib.dump(classifier, filename)"
   ]
  },
  {
   "cell_type": "code",
   "execution_count": null,
   "metadata": {},
   "outputs": [],
   "source": []
  }
 ],
 "metadata": {
  "kernelspec": {
   "display_name": "Python 3",
   "language": "python",
   "name": "python3"
  },
  "language_info": {
   "codemirror_mode": {
    "name": "ipython",
    "version": 3
   },
   "file_extension": ".py",
   "mimetype": "text/x-python",
   "name": "python",
   "nbconvert_exporter": "python",
   "pygments_lexer": "ipython3",
   "version": "3.6.12"
  }
 },
 "nbformat": 4,
 "nbformat_minor": 4
}
